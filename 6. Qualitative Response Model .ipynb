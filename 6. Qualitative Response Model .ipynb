{
 "cells": [
  {
   "cell_type": "markdown",
   "id": "3ffce874-3d61-4dad-a179-aa1f2fb7db18",
   "metadata": {},
   "source": [
    "# <font face=\"gotham\" color=\"purple\">What Is Qualitative Response Model?</font>"
   ]
  },
  {
   "cell_type": "markdown",
   "id": "76c0fa22-cd7e-4727-9fb2-df9ece1cf899",
   "metadata": {},
   "source": [
    "So we have only discussed the model that takes $Y$ as a quantitative variable by default, however there are situations we want $Y$ to be qualitative variable, for example, $Y = 1$ represents a family owns house, $Y=0$ means not owning a house, independent variables can be quantitative variables such as their income, ages, education and etc.\n",
    "\n",
    "Specifically, if the response variables only takes two values, such as $1$ or $0$, we call them **binary variable**, the regression model with binary variable as dependent variable is called **binary response regression model**, similarly there is also **trichotomous response regression model** or more generally **polychotomous response regression model**, but names do not matter, they are all **qualitative response model** as in the question of this section.\n",
    "\n",
    "For easy demonstration, we will mostly deal with _binary response model_, there are four approaches to develop this type of model: **linear probability model**, **logit model**, **probit model** and **tobit model**. \n",
    "\n",
    "We will go through all of them in this chapter."
   ]
  },
  {
   "cell_type": "code",
   "execution_count": null,
   "id": "faaad415-6c88-4a28-ab0c-a30d864f236a",
   "metadata": {},
   "outputs": [],
   "source": []
  }
 ],
 "metadata": {
  "kernelspec": {
   "display_name": "Python 3",
   "language": "python",
   "name": "python3"
  },
  "language_info": {
   "codemirror_mode": {
    "name": "ipython",
    "version": 3
   },
   "file_extension": ".py",
   "mimetype": "text/x-python",
   "name": "python",
   "nbconvert_exporter": "python",
   "pygments_lexer": "ipython3",
   "version": "3.8.8"
  }
 },
 "nbformat": 4,
 "nbformat_minor": 5
}
